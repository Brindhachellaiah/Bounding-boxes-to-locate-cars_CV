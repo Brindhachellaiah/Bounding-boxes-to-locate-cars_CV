{
 "cells": [
  {
   "cell_type": "markdown",
   "id": "billion-destination",
   "metadata": {},
   "source": []
  },
  {
   "cell_type": "markdown",
   "id": "empty-frontier",
   "metadata": {},
   "source": [
    "#### There are many methods to impute dynamic bounding box to locate moving objects such as HOG, MTCNN, DLIb, haarcascade feature. In this task, we are not training our model to spot cars in video frames from scratch instead we gonna use a pre-trained one. hence trained haar cascade classifiers from open source is downloaded here and is trained to detect cars."
   ]
  },
  {
   "cell_type": "markdown",
   "id": "circular-brighton",
   "metadata": {},
   "source": [
    "##### Note: haarcascade car feature is attached with the submission. alternatively it can be downloaded from the following website\n",
    "https://gist.github.com/199995/37e1e0af2bf8965e8058a9dfa3285bc6"
   ]
  },
  {
   "cell_type": "code",
   "execution_count": 16,
   "id": "fluid-ethernet",
   "metadata": {},
   "outputs": [],
   "source": [
    "  \n",
    "import cv2\n",
    "\n",
    "cars_cascade = cv2.CascadeClassifier('haarcascade_car.xml')\n",
    "\n",
    "def detect_cars(frame):\n",
    "    cars = cars_cascade.detectMultiScale(frame, 1.15, 4)\n",
    "    for (x, y, w, h) in cars:\n",
    "        cv2.rectangle(frame, (x, y), (x+w,y+h), color=(0, 255, 0), thickness=2)\n",
    "    return frame\n",
    "\n",
    "def Simulator():\n",
    "    CarVideo = cv2.VideoCapture('video1.mp4')\n",
    "    while CarVideo.isOpened():\n",
    "        ret, frame = CarVideo.read()\n",
    "        controlkey = cv2.waitKey(1)\n",
    "        if ret:        \n",
    "            cars_frame = detect_cars(frame)\n",
    "            cv2.imshow('frame', cars_frame)\n",
    "        else:\n",
    "            break\n",
    "        if controlkey == ord('q'):\n",
    "            break\n",
    "\n",
    "    CarVideo.release()\n",
    "    cv2.destroyAllWindows()\n",
    "\n",
    "if __name__ == '__main__':\n",
    "    Simulator()"
   ]
  },
  {
   "cell_type": "markdown",
   "id": "decent-highlight",
   "metadata": {},
   "source": [
    "#### Since the dynamic bounding boxes are not stable and is so random and covers only the object near to the screen in the above code, following is the code to delay the video and cover the objects for accurate results"
   ]
  },
  {
   "cell_type": "code",
   "execution_count": 17,
   "id": "danish-notion",
   "metadata": {},
   "outputs": [],
   "source": [
    "import time\n",
    "import numpy as np\n",
    "import cv2\n",
    "# Create our body classifier\n",
    "car_classifier = cv2.CascadeClassifier('haarcascade_car.xml')\n",
    "# Initiate video capture for video file\n",
    "cap = cv2.VideoCapture('video1.mp4')\n",
    "# Loop once video is successfully loaded\n",
    "while cap.isOpened():\n",
    "    \n",
    "    time.sleep(.05)\n",
    "    # Read first frame\n",
    "    ret, frame = cap.read()\n",
    "    gray = cv2.cvtColor(frame, cv2.COLOR_BGR2GRAY)\n",
    "   \n",
    "    # Pass frame to our car classifier\n",
    "    cars = car_classifier.detectMultiScale(gray, 1.1, 2)\n",
    "    \n",
    "    # Extract bounding boxes for any bodies identified\n",
    "    for (x,y,w,h) in cars:\n",
    "        cv2.rectangle(frame, (x, y), (x+w, y+h), (0, 255, 255), 2)\n",
    "        cv2.imshow('Cars', frame)\n",
    "    if cv2.waitKey(1) == 13: #13 is the Enter Key\n",
    "        break\n",
    "cap.release()\n",
    "cv2.destroyAllWindows()"
   ]
  },
  {
   "cell_type": "code",
   "execution_count": null,
   "id": "creative-cooling",
   "metadata": {},
   "outputs": [],
   "source": []
  }
 ],
 "metadata": {
  "kernelspec": {
   "display_name": "Python 3",
   "language": "python",
   "name": "python3"
  },
  "language_info": {
   "codemirror_mode": {
    "name": "ipython",
    "version": 3
   },
   "file_extension": ".py",
   "mimetype": "text/x-python",
   "name": "python",
   "nbconvert_exporter": "python",
   "pygments_lexer": "ipython3",
   "version": "3.6.13"
  }
 },
 "nbformat": 4,
 "nbformat_minor": 5
}
